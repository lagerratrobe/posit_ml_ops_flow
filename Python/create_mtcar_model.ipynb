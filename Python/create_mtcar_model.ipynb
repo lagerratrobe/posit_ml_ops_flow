{
 "cells": [
  {
   "cell_type": "code",
   "execution_count": null,
   "id": "962f8e84-afaa-40da-b813-cba0eea624ca",
   "metadata": {},
   "outputs": [],
   "source": [
    "# Train the model\n",
    "from vetiver.data import mtcars\n",
    "from sklearn import tree\n",
    "\n",
    "car_mod = tree.DecisionTreeRegressor().fit(mtcars.drop(columns=\"mpg\"), mtcars[\"mpg\"])\n",
    "\n",
    "print(mtcars.head())\n",
    "\n",
    "car_mod"
   ]
  },
  {
   "cell_type": "code",
   "execution_count": null,
   "id": "5e2a5dd8-2f2e-4049-a324-ecc954d66d3e",
   "metadata": {},
   "outputs": [],
   "source": [
    "# Create the Vetiver model object from the trained model\n",
    "from vetiver import VetiverModel\n",
    "v_car_mod = VetiverModel(car_mod, model_name = \"randre/cars_tree_model\", prototype_data = mtcars.drop(columns=\"mpg\"))\n",
    "v_car_mod.description"
   ]
  },
  {
   "cell_type": "code",
   "execution_count": null,
   "id": "5fa5169c-77c3-43e8-953c-0769236ad2ec",
   "metadata": {},
   "outputs": [],
   "source": [
    "# Create a pin-board connection to Connect\n",
    "from pins import board_rsconnect\n",
    "\n",
    "API_KEY = \"NRZYcQFo81oU2kS6jUSjMViWd0VjMz1T\"\n",
    "SERVER = \"http://posit2:3939\"\n",
    "board = board_rsconnect(server_url=SERVER, api_key=API_KEY, versioned = True, allow_pickle_read = True)\n",
    "\n",
    "board"
   ]
  },
  {
   "cell_type": "code",
   "execution_count": null,
   "id": "75ac1fae-579b-414b-96fd-3800a1747bc6",
   "metadata": {},
   "outputs": [],
   "source": [
    "# Version and Pin the model to Connect\n",
    "from vetiver import vetiver_pin_write\n",
    "\n",
    "vetiver_pin_write(board, v_car_mod)"
   ]
  },
  {
   "cell_type": "code",
   "execution_count": null,
   "id": "948a1d78-79ec-4945-b631-0768bcc0e59c",
   "metadata": {},
   "outputs": [],
   "source": [
    "# Deploy the model as a REST enpoint to a FastAPI API\n",
    "\n",
    "from rsconnect.api import RSConnectServer\n",
    "from vetiver import deploy_rsconnect\n",
    "\n",
    "connect_server = RSConnectServer(\n",
    "    url=\"http://posit2:3939\",\n",
    "    api_key=\"NRZYcQFo81oU2kS6jUSjMViWd0VjMz1T\" # load from an .env file \n",
    ")\n",
    "\n",
    "deploy_rsconnect(\n",
    "    connect_server = connect_server,\n",
    "    board = board,\n",
    "    pin_name = \"randre/cars_tree_model\",\n",
    ")\n",
    "\n"
   ]
  },
  {
   "cell_type": "code",
   "execution_count": null,
   "id": "2c633f2a-1f3b-4377-b638-e27f3fdb5a19",
   "metadata": {},
   "outputs": [],
   "source": []
  }
 ],
 "metadata": {
  "kernelspec": {
   "display_name": "Python 3.8.10",
   "language": "python",
   "name": "py3.8.10"
  },
  "language_info": {
   "codemirror_mode": {
    "name": "ipython",
    "version": 3
   },
   "file_extension": ".py",
   "mimetype": "text/x-python",
   "name": "python",
   "nbconvert_exporter": "python",
   "pygments_lexer": "ipython3",
   "version": "3.8.10"
  }
 },
 "nbformat": 4,
 "nbformat_minor": 5
}
